{
  "nbformat": 4,
  "nbformat_minor": 0,
  "metadata": {
    "colab": {
      "name": "Facemask_and_Drinking_detection_logistic_regression.ipynb",
      "provenance": [],
      "collapsed_sections": [],
      "machine_shape": "hm",
      "background_execution": "on",
      "include_colab_link": true
    },
    "kernelspec": {
      "name": "python3",
      "display_name": "Python 3"
    },
    "accelerator": "GPU"
  },
  "cells": [
    {
      "cell_type": "markdown",
      "metadata": {
        "id": "view-in-github",
        "colab_type": "text"
      },
      "source": [
        "<a href=\"https://colab.research.google.com/github/nikhil-bhargava/cv-mask-detection/blob/main/notebooks/Facemask_and_Drinking_detection_logistic_regression.ipynb\" target=\"_parent\"><img src=\"https://colab.research.google.com/assets/colab-badge.svg\" alt=\"Open In Colab\"/></a>"
      ]
    },
    {
      "cell_type": "markdown",
      "metadata": {
        "id": "3XjaQuuS2QVQ"
      },
      "source": [
        "# Logistic Regression Model for Facemask Detection"
      ]
    },
    {
      "cell_type": "code",
      "metadata": {
        "id": "6gnyYNkr2Vub",
        "outputId": "104ca2d3-ef99-4567-cf18-82a04cfb9ea6",
        "colab": {
          "base_uri": "https://localhost:8080/"
        }
      },
      "source": [
        "import os\n",
        "import numpy as np\n",
        "import pandas as pd\n",
        "import torch\n",
        "from torchvision import datasets, transforms\n",
        "import torchvision\n",
        "from torch.utils.data import DataLoader, TensorDataset\n",
        "from torch.utils.tensorboard import SummaryWriter\n",
        "import torch.nn as nn\n",
        "import torch.nn.functional as F\n",
        "import torch.optim as optim\n",
        "import matplotlib.pyplot as plt\n",
        "from torchsummary import summary\n",
        "import urllib.request\n",
        "import zipfile\n",
        "import pickle\n",
        "\n",
        "import seaborn as sns\n",
        "from sklearn.datasets import fetch_openml\n",
        "from sklearn.model_selection import train_test_split\n",
        "from sklearn.linear_model import LogisticRegression\n",
        "from sklearn.metrics import accuracy_score\n",
        "from sklearn.metrics import PrecisionRecallDisplay\n",
        "\n",
        "from IPython.core.interactiveshell import InteractiveShell\n",
        "InteractiveShell.ast_node_interactivity = \"all\"\n",
        "\n",
        "TORCH_VERSION = \".\".join(torch.__version__.split(\".\")[:2])\n",
        "CUDA_VERSION = torch.__version__.split(\"+\")[-1]\n",
        "print(\"torch: \", TORCH_VERSION, \"; cuda: \", CUDA_VERSION)\n",
        "\n",
        "%load_ext tensorboard\n",
        "\n",
        "%matplotlib inline"
      ],
      "execution_count": null,
      "outputs": [
        {
          "output_type": "stream",
          "name": "stdout",
          "text": [
            "torch:  1.10 ; cuda:  cu111\n"
          ]
        }
      ]
    },
    {
      "cell_type": "markdown",
      "metadata": {
        "id": "tSpmMANNj5Uz"
      },
      "source": [
        "### Load Dataset"
      ]
    },
    {
      "cell_type": "code",
      "metadata": {
        "id": "_A_mP5k627a6",
        "outputId": "85cf550b-cb36-410a-a4b6-d1c55ff7e9d6",
        "colab": {
          "base_uri": "https://localhost:8080/"
        }
      },
      "source": [
        "from google.colab import drive\n",
        "drive.mount('/content/gdrive')\n",
        "%cd /content/gdrive/MyDrive/AIPI/AIPI\\ 540:\\ Deep\\ Learning\\ Applications/CV\\ Module\\ Project/downloads/"
      ],
      "execution_count": null,
      "outputs": [
        {
          "output_type": "stream",
          "name": "stdout",
          "text": [
            "Mounted at /content/gdrive\n",
            "/content/gdrive/MyDrive/AIPI/AIPI 540: Deep Learning Applications/CV Module Project/downloads\n"
          ]
        }
      ]
    },
    {
      "cell_type": "markdown",
      "metadata": {
        "id": "doUww-u_37dw"
      },
      "source": [
        "### Data Transformation"
      ]
    },
    {
      "cell_type": "code",
      "metadata": {
        "id": "501gdjiu6v24"
      },
      "source": [
        "data_dir_drink = \"/content/gdrive/MyDrive/AIPI/AIPI 540: Deep Learning Applications/CV Module Project/downloads/yolo_dataset/drinking\"\n",
        "data_dir_face = \"/content/gdrive/MyDrive/AIPI/AIPI 540: Deep Learning Applications/CV Module Project/downloads/yolo_dataset/facemask_data\"\n",
        "\n",
        "# Set up transformations for training and validation (test) data\n",
        "# For training data we will do randomized cropping to get to 224 * 224, randomized horizontal flipping, and normalization\n",
        "# For test set we will do only center cropping to get to 224 * 224 and normalization\n",
        "data_transforms = {\n",
        "    'train': transforms.Compose([\n",
        "        transforms.Grayscale(num_output_channels=1),\n",
        "        transforms.RandomResizedCrop(224),\n",
        "        transforms.RandomHorizontalFlip(),\n",
        "        transforms.ToTensor(),\n",
        "        transforms.Normalize([0.485], [0.229])\n",
        "    ]),\n",
        "    'val': transforms.Compose([\n",
        "        transforms.Grayscale(num_output_channels=1),\n",
        "        transforms.Resize(256),\n",
        "        transforms.CenterCrop(224),\n",
        "        transforms.ToTensor(),\n",
        "        transforms.Normalize([0.485], [0.229])\n",
        "    ]),\n",
        "}\n",
        "\n",
        "\n",
        "####### Drinking ########\n",
        "# Create Datasets for training and validation sets\n",
        "train_dataset_drink = datasets.ImageFolder(os.path.join(data_dir_drink, 'train'),\n",
        "                                          data_transforms['train'])\n",
        "val_dataset_drink = datasets.ImageFolder(os.path.join(data_dir_drink, 'val'),\n",
        "                                          data_transforms['val'])\n",
        "\n",
        "# Create DataLoaders for training and validation sets\n",
        "batch_size = len(train_dataset_drink)\n",
        "train_loader_drink = torch.utils.data.DataLoader(train_dataset_drink, batch_size=batch_size,\n",
        "                                             shuffle=True, num_workers=4)\n",
        "val_loader_drink = torch.utils.data.DataLoader(val_dataset_drink, batch_size=batch_size,\n",
        "                                             shuffle=False, num_workers=4)\n",
        "\n",
        "# Set up dict for dataloaders\n",
        "dataloaders = {'train':train_loader_drink,'val':val_loader_drink}\n",
        "# Store size of training and validation sets\n",
        "dataset_sizes = {'train':len(train_dataset_drink),'val':len(val_dataset_drink)}\n",
        "# Get class names associated with labels\n",
        "class_names_drink = train_dataset_drink.classes\n",
        "\n",
        "\n",
        "####### Face mask ########\n",
        "# Create Datasets for training and validation sets\n",
        "train_dataset_face = datasets.ImageFolder(os.path.join(data_dir_face, 'train'),\n",
        "                                          data_transforms['train'])\n",
        "val_dataset_face = datasets.ImageFolder(os.path.join(data_dir_face, 'val'),\n",
        "                                          data_transforms['val'])\n",
        "\n",
        "# Create DataLoaders for training and validation sets\n",
        "batch_size_face = len(train_dataset_face)\n",
        "train_loader_face = torch.utils.data.DataLoader(train_dataset_face, batch_size=batch_size_face,\n",
        "                                             shuffle=True, num_workers=4)\n",
        "val_loader_face = torch.utils.data.DataLoader(val_dataset_face, batch_size=batch_size_face,\n",
        "                                             shuffle=False, num_workers=4)\n",
        "\n",
        "# Set up dict for dataloaders\n",
        "dataloaders_face = {'train':train_loader_face,'val':val_loader_face}\n",
        "# Store size of training and validation sets\n",
        "dataset_sizes_face = {'train':len(train_dataset_face),'val':len(val_dataset_face)}\n",
        "# Get class names associated with labels\n",
        "class_names_face = train_dataset_face.classes\n",
        "\n",
        "device = torch.device(\"cuda:0\" if torch.cuda.is_available() else \"cpu\")"
      ],
      "execution_count": null,
      "outputs": []
    },
    {
      "cell_type": "code",
      "source": [
        "####### Drinking ########\n",
        "images_drink, labels_drink = iter(train_loader_drink).next()\n",
        "test_images_drink, test_labels_drink = iter(val_loader_drink).next()\n",
        "\n",
        "# Convert to numpy arrays to train the LR model\n",
        "X_drink = torch.flatten(images_drink, start_dim=1)\n",
        "X_drink = X_drink.numpy()\n",
        "y_drink = labels_drink.numpy()\n",
        "\n",
        "# Test set\n",
        "X_test_drink = torch.flatten(test_images_drink, start_dim=1)\n",
        "X_test_drink = X_test_drink.numpy()\n",
        "y_test_drink = test_labels_drink.numpy()\n",
        "\n",
        "\n",
        "\n",
        "####### Face mask ########\n",
        "images_face, labels_face = iter(train_loader_face).next()\n",
        "test_images_face, test_labels_face = iter(val_loader_face).next()\n",
        "\n",
        "# Convert to numpy arrays to train the LR model\n",
        "X_face = torch.flatten(images_face, start_dim=1)\n",
        "X_face = X_face.numpy()\n",
        "y_face = labels_face.numpy()\n",
        "\n",
        "# Test set\n",
        "X_test_face = torch.flatten(test_images_face, start_dim=1)\n",
        "X_test_face = X_test_face.numpy()\n",
        "y_test_face = test_labels_face.numpy()\n"
      ],
      "metadata": {
        "id": "NrGEJSvJaALk"
      },
      "execution_count": null,
      "outputs": []
    },
    {
      "cell_type": "code",
      "source": [
        "####### Drinking ########\n",
        "classes_drink = class_names_drink\n",
        "nclasses_drink = len(classes_drink)\n",
        "\n",
        "####### Face mask ########\n",
        "classes_face = class_names_face\n",
        "nclasses_face = len(classes_face)"
      ],
      "metadata": {
        "id": "cyDx3qksY2nK"
      },
      "execution_count": null,
      "outputs": []
    },
    {
      "cell_type": "code",
      "source": [
        "####### Drinking ########\n",
        "#scaling the features\n",
        "X_train_scaled_drink = X_drink/255.0\n",
        "X_test_scaled_drink = X_test_drink/255.0\n",
        "\n",
        "####### Face mask ########\n",
        "X_train_scaled_face = X_face/255.0\n",
        "X_test_scaled_face = X_test_face/255.0"
      ],
      "metadata": {
        "id": "6HjWzr2kdCng"
      },
      "execution_count": null,
      "outputs": []
    },
    {
      "cell_type": "code",
      "source": [
        "####### Drinking ########\n",
        "clf = LogisticRegression(penalty='none', \n",
        "                         tol=0.1, solver='saga',\n",
        "                         multi_class='multinomial').fit(X_train_scaled_drink, y_drink)\n",
        "\n",
        "# save the model to disk\n",
        "filename_drink = 'lr_drink.sav'\n",
        "pickle.dump(clf, open(filename_drink, 'wb'))\n",
        "\n",
        "# load the model from disk\n",
        "#clf = pickle.load(open(filename_drink, 'rb'))\n",
        "\n",
        "#to check the shape of the coefficient matrix\n",
        "clf.coef_.shape"
      ],
      "metadata": {
        "colab": {
          "base_uri": "https://localhost:8080/"
        },
        "id": "DxM9WFCAd8iA",
        "outputId": "c0572605-6fdf-4575-804f-8f9551b2fb26"
      },
      "execution_count": null,
      "outputs": [
        {
          "output_type": "execute_result",
          "data": {
            "text/plain": [
              "(1, 50176)"
            ]
          },
          "metadata": {},
          "execution_count": 8
        }
      ]
    },
    {
      "cell_type": "code",
      "source": [
        "####### Face mask ########\n",
        "clf_face = LogisticRegression(penalty='none', \n",
        "                         tol=0.1, solver='saga',\n",
        "                         multi_class='multinomial').fit(X_train_scaled_face, y_face)\n",
        "\n",
        "# save the model to disk\n",
        "filename_face = 'lr_face.sav'\n",
        "pickle.dump(clf_face, open(filename_face, 'wb'))\n",
        "\n",
        "# load the model from disk\n",
        "#clf_face = pickle.load(open(filename_face, 'rb'))\n",
        "\n",
        "#to check the shape of the coefficient matrix\n",
        "clf_face.coef_.shape"
      ],
      "metadata": {
        "colab": {
          "base_uri": "https://localhost:8080/"
        },
        "id": "CrpaKVhFzTgS",
        "outputId": "3145299d-3cf6-4014-c87c-3a9a78287eaf"
      },
      "execution_count": null,
      "outputs": [
        {
          "output_type": "execute_result",
          "data": {
            "text/plain": [
              "(1, 50176)"
            ]
          },
          "metadata": {},
          "execution_count": 9
        }
      ]
    },
    {
      "cell_type": "code",
      "source": [
        "####### Drinking ########\n",
        "z = [ clf.intercept_[k] + np.dot(clf.coef_[k], X_test_scaled_drink[k]) for k in range(1) ]\n",
        "\n",
        "#conditional probability\n",
        "exps = [np.exp(z[k]) for k in range(1)]\n",
        "exps_sum = np.sum(exps)\n",
        "probs = exps/exps_sum\n",
        "\n",
        "\n",
        "####### Face mask ########\n",
        "z_face = [ clf_face.intercept_[k] + np.dot(clf_face.coef_[k], X_test_scaled_face[k]) for k in range(1) ]\n",
        "\n",
        "#conditional probability\n",
        "exps_face = [np.exp(z_face[k]) for k in range(1)]\n",
        "exps_sum_face = np.sum(exps_face)\n",
        "probs_face = exps_face/exps_sum_face"
      ],
      "metadata": {
        "id": "9rjnfkpEfRsu"
      },
      "execution_count": null,
      "outputs": []
    },
    {
      "cell_type": "code",
      "source": [
        "####### Drinking ########\n",
        "#predictied label\n",
        "idx_cls = np.argmax(probs)\n",
        "\n",
        "#prediction probabilities\n",
        "y_pred_prob_drink = clf.predict_proba(X_test_scaled_drink)\n",
        "\n",
        "#predicted label\n",
        "y_pred_drink = clf.predict(X_test_scaled_drink)\n",
        "\n",
        "\n",
        "####### Face mask ########\n",
        "#predictied label\n",
        "idx_cls_face = np.argmax(probs_face)\n",
        "\n",
        "#prediction probabilities\n",
        "y_pred_prob_face = clf_face.predict_proba(X_test_scaled_face)\n",
        "\n",
        "#predicted label\n",
        "y_pred_face = clf_face.predict(X_test_scaled_face)"
      ],
      "metadata": {
        "id": "pTvXGq54e08e"
      },
      "execution_count": null,
      "outputs": []
    },
    {
      "cell_type": "code",
      "source": [
        "####### Drink ########\n",
        "accuracy =  np.mean(y_test_drink == y_pred_drink)\n",
        "print(\"Drink accuracy :\", accuracy)\n",
        "\n",
        "####### Face mask ########\n",
        "accuracy_face =  np.mean(y_test_face == y_pred_face)\n",
        "print(\"Face mask accuracy :\", accuracy_face)"
      ],
      "metadata": {
        "colab": {
          "base_uri": "https://localhost:8080/"
        },
        "id": "iu1aYDvNfu0N",
        "outputId": "df90988a-df22-4f50-aab3-4f25837f77f0"
      },
      "execution_count": null,
      "outputs": [
        {
          "output_type": "stream",
          "name": "stdout",
          "text": [
            "Drink accuracy : 0.625\n",
            "Face mask accuracy : 0.515625\n"
          ]
        }
      ]
    },
    {
      "cell_type": "code",
      "source": [
        "from sklearn.metrics import precision_recall_curve\n",
        "\n",
        "####### Drink ########\n",
        "precision, recall, thresholds = precision_recall_curve(y_test_drink, y_pred_drink)\n",
        "\n",
        "####### Face mask ########\n",
        "precision, recall, thresholds = precision_recall_curve(y_test_face, y_pred_face)\n"
      ],
      "metadata": {
        "id": "jtDD94eTRGsK"
      },
      "execution_count": null,
      "outputs": []
    },
    {
      "cell_type": "code",
      "source": [
        "####### Drink ########\n",
        "display = PrecisionRecallDisplay.from_estimator(clf, X_test_scaled_drink, y_test_drink, name=\"Logistic Regression\")\n",
        "_ = display.ax_.set_title(\"Drinking Precision-Recall curve\")\n",
        "\n",
        "print(\"Proportion of Drinking (positive) Class :\", np.sum(y_test_drink)/len(y_test_drink))"
      ],
      "metadata": {
        "colab": {
          "base_uri": "https://localhost:8080/",
          "height": 312
        },
        "id": "qRZibUPqRd_g",
        "outputId": "e2473653-7595-4c44-d35a-29cd14d37d53"
      },
      "execution_count": null,
      "outputs": [
        {
          "output_type": "stream",
          "name": "stdout",
          "text": [
            "Proportion of Drinking (positive) Class : 0.5\n"
          ]
        },
        {
          "output_type": "display_data",
          "data": {
            "image/png": "[encoded data removed]",
            "text/plain": [
              "<Figure size 432x288 with 1 Axes>"
            ]
          },
          "metadata": {
            "needs_background": "light"
          }
        }
      ]
    },
    {
      "cell_type": "code",
      "source": [
        "####### Face mask ########\n",
        "display = PrecisionRecallDisplay.from_estimator(clf_face, X_test_scaled_face, y_test_face, name=\"Logistic Regression\")\n",
        "_ = display.ax_.set_title(\"Face Mask Precision-Recall curve\")\n",
        "\n",
        "print(\"Proportion of Face Mask (positive) Class :\", np.sum(y_test_face)/len(y_test_face))\n"
      ],
      "metadata": {
        "colab": {
          "base_uri": "https://localhost:8080/",
          "height": 312
        },
        "id": "dXeytz79R9fd",
        "outputId": "16035476-3cc5-4908-e783-70555668af1c"
      },
      "execution_count": null,
      "outputs": [
        {
          "output_type": "stream",
          "name": "stdout",
          "text": [
            "Proportion of Face Mask (positive) Class : 0.375\n"
          ]
        },
        {
          "output_type": "display_data",
          "data": {
            "image/png": "[encoded data removed]",
            "text/plain": [
              "<Figure size 432x288 with 1 Axes>"
            ]
          },
          "metadata": {
            "needs_background": "light"
          }
        }
      ]
    },
    {
      "cell_type": "markdown",
      "source": [
        "**Drinking classes:** \\\\\n",
        "0 = not drinking \\\\\n",
        "1 = drinking\n",
        "\n",
        "**Face mask classes:** \\\\\n",
        "0 = no mask \\\\\n",
        "1 = mask\n"
      ],
      "metadata": {
        "id": "0yrnhf2xzfLV"
      }
    },
    {
      "cell_type": "code",
      "source": [
        "####### Drink ########\n",
        "cm = pd.crosstab(y_test_drink, y_pred_drink, \n",
        "                               rownames=['Actual'], colnames=['Predicted'], normalize='index')\n",
        "p = plt.figure(figsize=(10,10));\n",
        "p = sns.heatmap(cm, annot=True, fmt=\".2f\", cbar=False)"
      ],
      "metadata": {
        "colab": {
          "base_uri": "https://localhost:8080/",
          "height": 606
        },
        "id": "7VrcXmi2f2Oy",
        "outputId": "f736e8b0-09f4-4f27-87a1-bc09065da71e"
      },
      "execution_count": null,
      "outputs": [
        {
          "output_type": "display_data",
          "data": {
            "image/png": "[encoded data removed]",
            "text/plain": [
              "<Figure size 720x720 with 1 Axes>"
            ]
          },
          "metadata": {
            "needs_background": "light"
          }
        }
      ]
    },
    {
      "cell_type": "code",
      "source": [
        "####### Face mask ########\n",
        "cm_face = pd.crosstab(y_test_face, y_pred_face, \n",
        "                               rownames=['Actual'], colnames=['Predicted'], normalize='index')\n",
        "p_face = plt.figure(figsize=(10,10));\n",
        "p_face = sns.heatmap(cm_face, annot=True, fmt=\".2f\", cbar=False)"
      ],
      "metadata": {
        "colab": {
          "base_uri": "https://localhost:8080/",
          "height": 606
        },
        "id": "bqsL45051eYt",
        "outputId": "d4a210ee-cc66-46a4-a484-8426df4f8a97"
      },
      "execution_count": null,
      "outputs": [
        {
          "output_type": "display_data",
          "data": {
            "image/png": "[encoded data removed]",
            "text/plain": [
              "<Figure size 720x720 with 1 Axes>"
            ]
          },
          "metadata": {
            "needs_background": "light"
          }
        }
      ]
    }
  ]
}